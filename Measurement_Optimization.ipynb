{
 "cells": [
  {
   "cell_type": "markdown",
   "id": "2b0de047-a6ff-4b69-b9d5-36ce1d478144",
   "metadata": {},
   "source": [
    "# Some More Information on using Tequila for Quantum Chemistry #\n",
    "\n",
    "## Measurement Schemes ##\n",
    "\n",
    "This tutorial is to showcase the different methods available to calculate expectation values for molecular electronic Hamiltonians. Here we will focus on Hamiltonians that have been mapped to an iso-spectral qubit Hamiltonian with some fermionic -> qubit operator transform. If you haven't yet already, see the tutorials * here * and * here *, about basic chemistry usage with Tequila and the qubit transforms available. "
   ]
  },
  {
   "cell_type": "code",
   "execution_count": 2,
   "id": "cfbb806d-e339-4684-a8bc-4403f1c6a24f",
   "metadata": {},
   "outputs": [],
   "source": [
    "import tequila as tq\n"
   ]
  },
  {
   "cell_type": "code",
   "execution_count": null,
   "id": "28aeebbd-5bce-48f3-a00d-125d001f4928",
   "metadata": {},
   "outputs": [],
   "source": []
  },
  {
   "cell_type": "code",
   "execution_count": null,
   "id": "2ce6dea8-b3d0-4bbe-9ddf-14d11c36ecda",
   "metadata": {},
   "outputs": [],
   "source": []
  }
 ],
 "metadata": {
  "kernelspec": {
   "display_name": "tq-devPY39",
   "language": "python",
   "name": "tq-devpy39"
  },
  "language_info": {
   "codemirror_mode": {
    "name": "ipython",
    "version": 3
   },
   "file_extension": ".py",
   "mimetype": "text/x-python",
   "name": "python",
   "nbconvert_exporter": "python",
   "pygments_lexer": "ipython3",
   "version": "3.9.19"
  }
 },
 "nbformat": 4,
 "nbformat_minor": 5
}
